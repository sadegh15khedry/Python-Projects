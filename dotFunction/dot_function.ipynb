{
  "nbformat": 4,
  "nbformat_minor": 0,
  "metadata": {
    "colab": {
      "name": "dot_function.ipynb",
      "provenance": [],
      "collapsed_sections": []
    },
    "kernelspec": {
      "name": "python3",
      "display_name": "Python 3"
    }
  },
  "cells": [
    {
      "cell_type": "code",
      "metadata": {
        "id": "FLJaFxOmxK6T",
        "outputId": "67a20ea2-de37-439c-b6c4-177962c19202",
        "colab": {
          "base_uri": "https://localhost:8080/",
          "height": 52
        }
      },
      "source": [
        "import numpy as np\n",
        "import tensorflow as tf\n",
        "\n",
        "x = x =  np.array([[5, 78, 2, 34, 0],\n",
        "                    [6, 79, 3, 35, 1],\n",
        "                    [7, 80, 4, 36, 2]])\n",
        "\n",
        "y = x =  np.array([[5, 78, 2, 34, 0],\n",
        "                    [6, 79, 3, 35, 1],\n",
        "                    [7, 80, 4, 36, 2]])\n",
        "\n",
        "\n",
        "#dot using numpy\n",
        "def dot_using_numpy(x,y):\n",
        "  x1 = tf.reshape(x,[-1])\n",
        "  y1 = tf.reshape(y,[-1])\n",
        "  z = np.dot(x1, y1)\n",
        "  return z\n",
        "\n",
        "\n",
        "#dot using loop\n",
        "def dot_using_loop(x, y):\n",
        "  x = tf.reshape(x,[-1])\n",
        "  y = tf.reshape(y,[-1])\n",
        "  z = 0\n",
        "  for i in range(x.shape[0]):\n",
        "    z += x[i] * y[i]\n",
        "  return float(z)\n",
        "\n",
        "my_dot_using_loop = dot_using_loop(x, y)\n",
        "my_dot_using_numpy = dot_using_numpy(x,y)\n",
        "print(my_dot_using_loop)\n",
        "print(my_dot_using_numpy)\n"
      ],
      "execution_count": 18,
      "outputs": [
        {
          "output_type": "stream",
          "text": [
            "22546.0\n",
            "22546\n"
          ],
          "name": "stdout"
        }
      ]
    }
  ]
}